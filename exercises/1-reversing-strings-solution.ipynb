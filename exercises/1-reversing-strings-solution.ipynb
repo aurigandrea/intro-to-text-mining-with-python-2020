{
 "cells": [
  {
   "cell_type": "markdown",
   "metadata": {
    "collapsed": true
   },
   "source": [
    "# Exercise 1: Reversing Strings \n",
    "# Solution\n",
    "\n",
    "---\n",
    "---\n",
    "\n",
    "There are various possible ways to do this exercise. Compare yours to this particular solution."
   ]
  },
  {
   "cell_type": "code",
   "execution_count": null,
   "metadata": {},
   "outputs": [],
   "source": [
    "# Create a new string of the text\n",
    "darwin_text = \"Cambridge University Library houses the world's largest and most significant collection of the personal papers of Charles Robert Darwin (1809-1882). Darwin corresponded with around 2,000 people from all around the world and all walks of life. His correspondents included other leading scientists and thinkers, such as the geologist Charles Lyell. They bring into sharp focus every aspect of Darwin's scientific work throughout that period, and illuminate the mutual friendships he shared with other scientists.\"\n",
    "darwin_text"
   ]
  },
  {
   "cell_type": "code",
   "execution_count": null,
   "metadata": {},
   "outputs": [],
   "source": [
    "# Split the text into a new list of sentences\n",
    "# Hint: use the string method split('.') which will split the text up at each full stop\n",
    "darwin_list = darwin_text.split('.')\n",
    "darwin_list"
   ]
  },
  {
   "cell_type": "markdown",
   "metadata": {},
   "source": [
    "We don't really want the last sentence as it is just empty."
   ]
  },
  {
   "cell_type": "code",
   "execution_count": null,
   "metadata": {},
   "outputs": [],
   "source": [
    "# Create a new list that contains just the first 4 sentences\n",
    "# Hint: use list slicing\n",
    "darwin_list_trimmed = darwin_list[0:4]\n",
    "darwin_list_trimmed"
   ]
  },
  {
   "cell_type": "code",
   "execution_count": null,
   "metadata": {},
   "outputs": [],
   "source": [
    "# Create a new list with all the sentences reversed\n",
    "# Hint: use list slicing\n",
    "darwin_list_reversed = darwin_list_trimmed[::-1]\n",
    "darwin_list_reversed"
   ]
  },
  {
   "cell_type": "code",
   "execution_count": null,
   "metadata": {},
   "outputs": [],
   "source": [
    "# Create a new string with all the reversed sentences joined by a full stop\n",
    "# Hint: start with the string of a full stop and join the list to it like this '.'join(my_list)\n",
    "darwin_reversed = '.'.join(darwin_list_reversed)\n",
    "darwin_reversed"
   ]
  },
  {
   "cell_type": "code",
   "execution_count": null,
   "metadata": {},
   "outputs": [],
   "source": [
    "# Remove the space at the front of the string\n",
    "# Hint: use string slicing or the string method lstrip()\n",
    "darwin_tidy = darwin_reversed.lstrip()\n",
    "darwin_tidy"
   ]
  },
  {
   "cell_type": "code",
   "execution_count": null,
   "metadata": {},
   "outputs": [],
   "source": [
    "# Add a full stop at the end of the string\n",
    "darwin_tidy = darwin_tidy + \".\"\n",
    "darwin_tidy"
   ]
  },
  {
   "cell_type": "code",
   "execution_count": null,
   "metadata": {},
   "outputs": [],
   "source": [
    "# Reverse all the characters\n",
    "# Hint: use string slicing\n",
    "darwin_reversed = darwin_tidy[::-1]\n",
    "darwin_reversed"
   ]
  }
 ],
 "metadata": {
  "kernelspec": {
   "display_name": "Python 3",
   "language": "python",
   "name": "python3"
  },
  "language_info": {
   "codemirror_mode": {
    "name": "ipython",
    "version": 3
   },
   "file_extension": ".py",
   "mimetype": "text/x-python",
   "name": "python",
   "nbconvert_exporter": "python",
   "pygments_lexer": "ipython3",
   "version": "3.8.2"
  }
 },
 "nbformat": 4,
 "nbformat_minor": 1
}
