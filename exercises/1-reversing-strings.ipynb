{
 "cells": [
  {
   "cell_type": "markdown",
   "metadata": {
    "collapsed": true
   },
   "source": [
    "# Excercise 1: Reversing Strings\n",
    "\n",
    "---\n",
    "---\n",
    "\n",
    "In this optional exercise, we are going to put everything together from [1-intro-to-python-and-text](/notebooks/notebooks/1-intro-to-python-and-text.ipynb). and write some code. The idea is to get used to how code can be used to manipulate data, and how to think about doing this, step by step.\n",
    "\n",
    "The aim of the exercise is to take the text below, reverse all the sentences and then reverse all the characters.\n",
    "\n",
    "Text:\n",
    "\n",
    "> Cambridge University Library houses the world's largest and most significant collection of the personal papers of Charles Robert Darwin (1809-1882). Darwin corresponded with around 2,000 people from all around the world and all walks of life. His correspondents included other leading scientists and thinkers, such as the geologist Charles Lyell. They bring into sharp focus every aspect of Darwin's scientific work throughout that period, and illuminate the mutual friendships he shared with other scientists.\n",
    "\n",
    "Reversed text:\n",
    "\n",
    "> .)2881-9081( niwraD treboR selrahC fo srepap lanosrep eht fo noitcelloc tnacifingis tsom dna tsegral s'dlrow eht sesuoh yrarbiL ytisrevinU egdirbmaC.efil fo sklaw lla dna dlrow eht dnuora lla morf elpoep 000,2 dnuora htiw dednopserroc niwraD .lleyL selrahC tsigoloeg eht sa hcus ,srekniht dna stsitneics gnidael rehto dedulcni stnednopserroc siH .stsitneics rehto htiw derahs eh spihsdneirf lautum eht etanimulli dna ,doirep taht tuohguorht krow cifitneics s'niwraD fo tcepsa yreve sucof prahs otni gnirb yehT"
   ]
  },
  {
   "cell_type": "code",
   "execution_count": null,
   "metadata": {},
   "outputs": [],
   "source": [
    "# Create a new string of the text"
   ]
  },
  {
   "cell_type": "code",
   "execution_count": null,
   "metadata": {},
   "outputs": [],
   "source": [
    "# Split the text into a new list of sentences\n",
    "# Hint: use the string method split('.') which will split the text up at each full stop"
   ]
  },
  {
   "cell_type": "markdown",
   "metadata": {},
   "source": [
    "We don't really want the last sentence as it is just empty."
   ]
  },
  {
   "cell_type": "code",
   "execution_count": null,
   "metadata": {},
   "outputs": [],
   "source": [
    "# Create a new list that contains just the first 4 sentences\n",
    "# Hint: use list slicing"
   ]
  },
  {
   "cell_type": "code",
   "execution_count": null,
   "metadata": {},
   "outputs": [],
   "source": [
    "# Create a new list with all the sentences reversed\n",
    "# Hint: use list slicing"
   ]
  },
  {
   "cell_type": "code",
   "execution_count": null,
   "metadata": {},
   "outputs": [],
   "source": [
    "# Create a new string with all the reversed sentences joined by a full stop\n",
    "# Hint: start with the string of a full stop and join the list to it like this '.'join(darwin_list_reversed)"
   ]
  },
  {
   "cell_type": "code",
   "execution_count": null,
   "metadata": {},
   "outputs": [],
   "source": [
    "# Remove the space at the front of the string and give it a new name `darwin_tidy`\n",
    "# Hint: use string slicing or the string method lstrip()"
   ]
  },
  {
   "cell_type": "code",
   "execution_count": null,
   "metadata": {},
   "outputs": [],
   "source": [
    "# Add a full stop at the end of the string"
   ]
  },
  {
   "cell_type": "code",
   "execution_count": null,
   "metadata": {},
   "outputs": [],
   "source": [
    "# Reverse all the characters\n",
    "# Hint: use string slicing"
   ]
  }
 ],
 "metadata": {
  "kernelspec": {
   "display_name": "Python 3",
   "language": "python",
   "name": "python3"
  },
  "language_info": {
   "codemirror_mode": {
    "name": "ipython",
    "version": 3
   },
   "file_extension": ".py",
   "mimetype": "text/x-python",
   "name": "python",
   "nbconvert_exporter": "python",
   "pygments_lexer": "ipython3",
   "version": "3.8.2"
  }
 },
 "nbformat": 4,
 "nbformat_minor": 1
}
